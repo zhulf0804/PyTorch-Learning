{
 "cells": [
  {
   "cell_type": "code",
   "execution_count": 2,
   "metadata": {},
   "outputs": [],
   "source": [
    "from __future__ import print_function\n",
    "import torch as t\n",
    "from torch import nn\n",
    "from torch.autograd import Variable as V\n",
    "\n"
   ]
  },
  {
   "cell_type": "code",
   "execution_count": 4,
   "metadata": {},
   "outputs": [
    {
     "name": "stdout",
     "output_type": "stream",
     "text": [
      "Net(\n",
      "  (submodel1): Linear(in_features=3, out_features=4, bias=True)\n",
      ")\n",
      "OrderedDict([('submodel1', Linear(in_features=3, out_features=4, bias=True))])\n",
      "OrderedDict([('param1', Parameter containing:\n",
      "tensor([[0.8647, 0.1809, 0.4805],\n",
      "        [0.1893, 0.3366, 0.3325],\n",
      "        [0.6504, 0.1641, 0.6304]], requires_grad=True))])\n"
     ]
    }
   ],
   "source": [
    "class Net(nn.Module):\n",
    "    def __init__(self):\n",
    "        super(Net, self).__init__()\n",
    "        self.param1 = nn.Parameter(t.rand(3, 3))\n",
    "        self.submodel1 = nn.Linear(3, 4)\n",
    "        \n",
    "    def forward(self, input):\n",
    "        x = self.param1.mm(input)\n",
    "        x = self.submodel1(x)\n",
    "        return x\n",
    "net = Net()\n",
    "print(net)\n",
    "\n",
    "print(net._modules)\n",
    "print(net._parameters)\n",
    "\n"
   ]
  },
  {
   "cell_type": "code",
   "execution_count": 4,
   "metadata": {},
   "outputs": [
    {
     "name": "stdout",
     "output_type": "stream",
     "text": [
      "param1 torch.Size([3, 3])\n",
      "submodel1.weight torch.Size([4, 3])\n",
      "submodel1.bias torch.Size([4])\n",
      " Net(\n",
      "  (submodel1): Linear(in_features=3, out_features=4, bias=True)\n",
      ")\n",
      "submodel1 Linear(in_features=3, out_features=4, bias=True)\n"
     ]
    }
   ],
   "source": [
    "for name, param in net.named_parameters():\n",
    "    print(name, param.size())\n",
    "    \n",
    "for name, submodel in net.named_modules():\n",
    "    print(name, submodel)"
   ]
  },
  {
   "cell_type": "code",
   "execution_count": 5,
   "metadata": {},
   "outputs": [
    {
     "name": "stdout",
     "output_type": "stream",
     "text": [
      "OrderedDict([('running_mean', tensor([0.0513, 0.0524])), ('running_var', tensor([0.9054, 0.9100])), ('num_batches_tracked', tensor(1))])\n"
     ]
    }
   ],
   "source": [
    "bn = nn.BatchNorm1d(2)\n",
    "input = V(t.rand(3, 2), requires_grad=True)\n",
    "output = bn(input)\n",
    "print(bn._buffers)"
   ]
  },
  {
   "cell_type": "code",
   "execution_count": 9,
   "metadata": {},
   "outputs": [
    {
     "name": "stdout",
     "output_type": "stream",
     "text": [
      "False False\n",
      "False False\n",
      "[('', Net(\n",
      "  (submodel1): Linear(in_features=3, out_features=4, bias=True)\n",
      ")), ('submodel1', Linear(in_features=3, out_features=4, bias=True))]\n"
     ]
    }
   ],
   "source": [
    "input = V(t.arange(0, 12).view(3, 4))\n",
    "model = nn.Dropout()\n",
    "print(net.training, net.submodel1.training)\n",
    "net.eval()\n",
    "print(net.training, net.submodel1.training)\n",
    "\n",
    "print(list(net.named_modules()))"
   ]
  },
  {
   "cell_type": "code",
   "execution_count": 12,
   "metadata": {},
   "outputs": [],
   "source": [
    "# hook 提取中间某一层\n",
    "\n",
    "# 保存、加载模型\n",
    "\n",
    "# GPU运行\n",
    "\n",
    "# 多GPU运行\n"
   ]
  },
  {
   "cell_type": "code",
   "execution_count": null,
   "metadata": {},
   "outputs": [],
   "source": []
  }
 ],
 "metadata": {
  "kernelspec": {
   "display_name": "Python 2",
   "language": "python",
   "name": "python2"
  },
  "language_info": {
   "codemirror_mode": {
    "name": "ipython",
    "version": 2
   },
   "file_extension": ".py",
   "mimetype": "text/x-python",
   "name": "python",
   "nbconvert_exporter": "python",
   "pygments_lexer": "ipython2",
   "version": "2.7.15"
  }
 },
 "nbformat": 4,
 "nbformat_minor": 2
}
