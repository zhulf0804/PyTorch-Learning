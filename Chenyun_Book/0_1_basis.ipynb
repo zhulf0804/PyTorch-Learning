{
 "cells": [
  {
   "cell_type": "code",
   "execution_count": 1,
   "metadata": {},
   "outputs": [],
   "source": [
    "from __future__ import print_function\n",
    "import torch as t"
   ]
  },
  {
   "cell_type": "code",
   "execution_count": 5,
   "metadata": {},
   "outputs": [
    {
     "name": "stdout",
     "output_type": "stream",
     "text": [
      "tensor([[ 0.0000e+00, -2.5244e-29,  0.0000e+00],\n",
      "        [-2.5244e-29,  3.7170e-32,  1.4013e-45],\n",
      "        [-1.8785e-01,  4.5905e-41, -1.8786e-01],\n",
      "        [ 4.5905e-41,  2.4822e-33,  1.4013e-45],\n",
      "        [ 2.4456e-33,  1.4013e-45,  3.0774e+36]])\n"
     ]
    }
   ],
   "source": [
    "x = t.Tensor(5, 3)\n",
    "print(x)"
   ]
  },
  {
   "cell_type": "code",
   "execution_count": 8,
   "metadata": {},
   "outputs": [
    {
     "name": "stdout",
     "output_type": "stream",
     "text": [
      "tensor([[0.7499, 0.1255, 0.6039],\n",
      "        [0.5744, 0.1426, 0.5422],\n",
      "        [0.0875, 0.1446, 0.0230],\n",
      "        [0.2604, 0.5112, 0.0346],\n",
      "        [0.5387, 0.2690, 0.7678]])\n",
      "torch.Size([5, 3])\n"
     ]
    }
   ],
   "source": [
    "x = t.rand(5, 3)\n",
    "print(x)\n",
    "print(x.size())"
   ]
  },
  {
   "cell_type": "code",
   "execution_count": 12,
   "metadata": {},
   "outputs": [
    {
     "name": "stdout",
     "output_type": "stream",
     "text": [
      "tensor([[0.8142, 0.4091, 0.4822],\n",
      "        [0.3672, 0.2741, 0.9067],\n",
      "        [0.2200, 0.6586, 0.2019],\n",
      "        [0.8706, 0.6062, 0.9032],\n",
      "        [0.4641, 0.1444, 0.5005]])\n",
      "tensor([[1.5640, 0.5346, 1.0861],\n",
      "        [0.9416, 0.4167, 1.4488],\n",
      "        [0.3075, 0.8033, 0.2249],\n",
      "        [1.1310, 1.1174, 0.9379],\n",
      "        [1.0028, 0.4134, 1.2683]])\n",
      "tensor([[1.5640, 0.5346, 1.0861],\n",
      "        [0.9416, 0.4167, 1.4488],\n",
      "        [0.3075, 0.8033, 0.2249],\n",
      "        [1.1310, 1.1174, 0.9379],\n",
      "        [1.0028, 0.4134, 1.2683]])\n",
      "tensor([[1.5640, 0.5346, 1.0861],\n",
      "        [0.9416, 0.4167, 1.4488],\n",
      "        [0.3075, 0.8033, 0.2249],\n",
      "        [1.1310, 1.1174, 0.9379],\n",
      "        [1.0028, 0.4134, 1.2683]])\n"
     ]
    }
   ],
   "source": [
    "y = t.rand(5, 3)\n",
    "print(y)\n",
    "print(x + y)\n",
    "print(t.add(x,y))\n",
    "\n",
    "result = t.Tensor(5, 3)\n",
    "t.add(x, y, out=result)\n",
    "print(result)"
   ]
  },
  {
   "cell_type": "code",
   "execution_count": 13,
   "metadata": {},
   "outputs": [
    {
     "name": "stdout",
     "output_type": "stream",
     "text": [
      "tensor([[0.8142, 0.4091, 0.4822],\n",
      "        [0.3672, 0.2741, 0.9067],\n",
      "        [0.2200, 0.6586, 0.2019],\n",
      "        [0.8706, 0.6062, 0.9032],\n",
      "        [0.4641, 0.1444, 0.5005]])\n",
      "tensor([[0.8142, 0.4091, 0.4822],\n",
      "        [0.3672, 0.2741, 0.9067],\n",
      "        [0.2200, 0.6586, 0.2019],\n",
      "        [0.8706, 0.6062, 0.9032],\n",
      "        [0.4641, 0.1444, 0.5005]])\n",
      "tensor([[1.5640, 0.5346, 1.0861],\n",
      "        [0.9416, 0.4167, 1.4488],\n",
      "        [0.3075, 0.8033, 0.2249],\n",
      "        [1.1310, 1.1174, 0.9379],\n",
      "        [1.0028, 0.4134, 1.2683]])\n"
     ]
    }
   ],
   "source": [
    "print(y)\n",
    "\n",
    "y.add(x)\n",
    "print(y)\n",
    "\n",
    "y.add_(x)\n",
    "print(y)"
   ]
  },
  {
   "cell_type": "code",
   "execution_count": 14,
   "metadata": {},
   "outputs": [
    {
     "name": "stdout",
     "output_type": "stream",
     "text": [
      "tensor([[0.7499, 0.1255, 0.6039],\n",
      "        [0.5744, 0.1426, 0.5422],\n",
      "        [0.0875, 0.1446, 0.0230],\n",
      "        [0.2604, 0.5112, 0.0346],\n",
      "        [0.5387, 0.2690, 0.7678]])\n",
      "tensor([0.1255, 0.1426, 0.1446, 0.5112, 0.2690])\n"
     ]
    }
   ],
   "source": [
    "print(x)\n",
    "print(x[:, 1])"
   ]
  },
  {
   "cell_type": "code",
   "execution_count": 19,
   "metadata": {},
   "outputs": [
    {
     "name": "stdout",
     "output_type": "stream",
     "text": [
      "tensor([1., 1., 1., 1., 1.])\n",
      "[1. 1. 1. 1. 1.]\n",
      "[1. 1. 1. 1. 1.]\n",
      "tensor([1., 1., 1., 1., 1.], dtype=torch.float64)\n",
      "[2. 2. 2. 2. 2.] tensor([2., 2., 2., 2., 2.], dtype=torch.float64)\n"
     ]
    }
   ],
   "source": [
    "a = t.ones(5)\n",
    "print(a)\n",
    "\n",
    "b = a.numpy()\n",
    "print(b)\n",
    "\n",
    "import numpy as np\n",
    "\n",
    "a = np.ones(5)\n",
    "b = t.from_numpy(a)\n",
    "print(a)\n",
    "print(b)\n",
    "\n",
    "b.add_(1)\n",
    "print(a, b)\n"
   ]
  },
  {
   "cell_type": "code",
   "execution_count": 31,
   "metadata": {},
   "outputs": [
    {
     "name": "stdout",
     "output_type": "stream",
     "text": [
      "tensor([[1., 1.],\n",
      "        [1., 1.]], requires_grad=True)\n",
      "tensor(4., grad_fn=<SumBackward0>)\n",
      "<SumBackward0 object at 0x1234a3b10>\n",
      "tensor(4.)\n",
      "None\n",
      "tensor([[1., 1.],\n",
      "        [1., 1.]])\n",
      "tensor([[1., 1.],\n",
      "        [1., 1.]])\n"
     ]
    }
   ],
   "source": [
    "from torch.autograd import Variable\n",
    "x = Variable(t.ones(2, 2), requires_grad = True)\n",
    "print(x)\n",
    "\n",
    "y = x.sum()\n",
    "print(y)\n",
    "\n",
    "print(y.grad_fn)\n",
    "print(y.data)\n",
    "print(x.grad)\n",
    "\n",
    "y.backward()\n",
    "print(x.grad)\n",
    "\n",
    "x.grad.data.zero_()  # important\n",
    "\n",
    "y.backward()\n",
    "print(x.grad)"
   ]
  },
  {
   "cell_type": "code",
   "execution_count": null,
   "metadata": {},
   "outputs": [],
   "source": [
    "x = Variable()"
   ]
  }
 ],
 "metadata": {
  "kernelspec": {
   "display_name": "Python 2",
   "language": "python",
   "name": "python2"
  },
  "language_info": {
   "codemirror_mode": {
    "name": "ipython",
    "version": 2
   },
   "file_extension": ".py",
   "mimetype": "text/x-python",
   "name": "python",
   "nbconvert_exporter": "python",
   "pygments_lexer": "ipython2",
   "version": "2.7.15"
  }
 },
 "nbformat": 4,
 "nbformat_minor": 1
}
