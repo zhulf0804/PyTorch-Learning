{
 "cells": [
  {
   "cell_type": "code",
   "execution_count": 1,
   "metadata": {},
   "outputs": [],
   "source": [
    "from __future__ import print_function\n",
    "import torch as t"
   ]
  },
  {
   "cell_type": "code",
   "execution_count": 10,
   "metadata": {},
   "outputs": [
    {
     "name": "stdout",
     "output_type": "stream",
     "text": [
      "tensor([[5.0643e+07, 4.5804e-41, 5.0643e+07],\n",
      "        [4.5804e-41, 5.0514e-20, 1.4013e-45]])\n",
      "tensor([[1., 2., 3.],\n",
      "        [4., 5., 6.]])\n",
      "[[1.0, 2.0, 3.0], [4.0, 5.0, 6.0]]\n",
      "tensor([[1., 2., 3.],\n",
      "        [4., 5., 6.]])\n",
      "torch.Size([2, 3])\n",
      "6\n",
      "tensor([[2.6982e+06, 4.5804e-41, 2.6982e+06],\n",
      "        [4.5804e-41, 5.0832e-20, 1.4013e-45]]) tensor([[2.6982e+06, 4.5804e-41, 2.6982e+06],\n",
      "        [4.5804e-41, 5.1180e-20, 1.4013e-45]])\n",
      "torch.Size([2, 3]) torch.Size([2, 3])\n"
     ]
    }
   ],
   "source": [
    "a = t.Tensor(2, 3)\n",
    "print(a)\n",
    "\n",
    "b = t.Tensor([[1, 2, 3], [4, 5, 6]])\n",
    "print(b)\n",
    "\n",
    "print(b.tolist())\n",
    "\n",
    "print(b)\n",
    "\n",
    "b_size = b.size()\n",
    "print(b_size)\n",
    "print(b.numel())\n",
    "\n",
    "c = t.Tensor(b_size)\n",
    "d = t.Tensor(2, 3)\n",
    "print(c, d)\n",
    "\n",
    "print(c.shape, d.shape)"
   ]
  },
  {
   "cell_type": "code",
   "execution_count": 17,
   "metadata": {},
   "outputs": [
    {
     "name": "stdout",
     "output_type": "stream",
     "text": [
      "tensor([[1., 1., 1.],\n",
      "        [1., 1., 1.]])\n",
      "tensor([[0., 0., 0.],\n",
      "        [0., 0., 0.]])\n",
      "tensor([1, 3, 5])\n",
      "tensor([ 1.0000,  5.5000, 10.0000])\n",
      "tensor([[ 0.9428,  1.8616, -0.7039],\n",
      "        [ 0.1909, -0.1644, -0.6421]])\n",
      "tensor([3, 1, 2, 4, 0])\n",
      "tensor([[1., 0., 0.],\n",
      "        [0., 1., 0.]])\n"
     ]
    }
   ],
   "source": [
    "print(t.ones(2, 3))\n",
    "print(t.zeros(2, 3))\n",
    "print(t.arange(1, 6, 2))\n",
    "print(t.linspace(1, 10, 3))\n",
    "print(t.randn(2, 3))\n",
    "print(t.randperm(5))\n",
    "print(t.eye(2, 3))"
   ]
  },
  {
   "cell_type": "code",
   "execution_count": 29,
   "metadata": {},
   "outputs": [
    {
     "name": "stdout",
     "output_type": "stream",
     "text": [
      "tensor([[0, 1, 2],\n",
      "        [3, 4, 5]])\n",
      "tensor([0, 1, 2, 3, 4, 5])\n",
      "tensor([[0, 1, 2],\n",
      "        [3, 4, 5]])\n",
      "tensor([[[0, 1, 2]],\n",
      "\n",
      "        [[3, 4, 5]]]) torch.Size([2, 1, 3])\n",
      "tensor([[[[[[0, 1, 2],\n",
      "            [3, 4, 5]]]]]]) torch.Size([1, 1, 1, 1, 2, 3])\n",
      "tensor([[0, 1, 2],\n",
      "        [3, 4, 5]])\n",
      "tensor([[  0, 100,   2],\n",
      "        [  3,   4,   5]])\n",
      "tensor([[  0, 100,   2]])\n",
      "tensor([[              0,             100,               2],\n",
      "        [              3,               4,               5],\n",
      "        [140390826005928, 140390826005904, 140390826005880]])\n"
     ]
    }
   ],
   "source": [
    "a = t.arange(0, 6)\n",
    "print(a.view(2, 3))\n",
    "print(a)\n",
    "b = a.view(-1, 3)\n",
    "print(b)\n",
    "c = b.unsqueeze(1)\n",
    "print(c, c.shape)\n",
    "d = b.view(1, 1, 1, 1, 2, 3)\n",
    "print(d, d.shape)\n",
    "print(d.squeeze())\n",
    "\n",
    "a[1] = 100\n",
    "print(b)\n",
    "\n",
    "b.resize_(1, 3)\n",
    "print(b)\n",
    "b.resize_(3, 3)\n",
    "print(b)"
   ]
  },
  {
   "cell_type": "code",
   "execution_count": 31,
   "metadata": {},
   "outputs": [
    {
     "name": "stdout",
     "output_type": "stream",
     "text": [
      "tensor([[-1.0086,  3.0326,  0.3682, -1.3417],\n",
      "        [ 1.7980, -0.4934, -0.2931,  0.2001],\n",
      "        [-0.8427, -0.9508, -0.1997,  0.5695]])\n"
     ]
    }
   ],
   "source": [
    "a = t.randn(3, 4)\n",
    "print(a)"
   ]
  },
  {
   "cell_type": "code",
   "execution_count": 43,
   "metadata": {},
   "outputs": [
    {
     "name": "stdout",
     "output_type": "stream",
     "text": [
      "tensor([-1.0086,  3.0326,  0.3682, -1.3417])\n",
      "tensor([-1.0086,  1.7980, -0.8427])\n",
      "tensor(0.3682) tensor(0.3682)\n",
      "tensor(-1.3417)\n",
      "tensor([[-1.0086,  3.0326,  0.3682, -1.3417],\n",
      "        [ 1.7980, -0.4934, -0.2931,  0.2001]])\n",
      "tensor([[-1.0086,  3.0326],\n",
      "        [ 1.7980, -0.4934]])\n",
      "tensor([[-1.0086,  3.0326]])\n",
      "tensor([-1.0086,  3.0326])\n",
      "tensor([[0, 1, 0, 0],\n",
      "        [1, 0, 0, 0],\n",
      "        [0, 0, 0, 0]], dtype=torch.uint8)\n",
      "tensor([3.0326, 1.7980])\n",
      "tensor([[-1.0086,  3.0326,  0.3682, -1.3417],\n",
      "        [ 1.7980, -0.4934, -0.2931,  0.2001]])\n"
     ]
    }
   ],
   "source": [
    "print(a[0])\n",
    "print(a[:, 0])\n",
    "print(a[0][2], a[0,2])\n",
    "print(a[0, -1])\n",
    "print(a[:2])\n",
    "print(a[:2, 0:2])\n",
    "print(a[0:1, :2])\n",
    "print(a[0, :2])\n",
    "print(a > 1)\n",
    "print(a[a > 1])\n",
    "print(a[t.LongTensor([0, 1])])"
   ]
  },
  {
   "cell_type": "code",
   "execution_count": 44,
   "metadata": {},
   "outputs": [
    {
     "name": "stdout",
     "output_type": "stream",
     "text": [
      "tensor([[ 0,  1,  2,  3],\n",
      "        [ 4,  5,  6,  7],\n",
      "        [ 8,  9, 10, 11],\n",
      "        [12, 13, 14, 15]])\n"
     ]
    }
   ],
   "source": [
    "a = t.arange(0, 16).view(4, 4)\n",
    "print(a)"
   ]
  },
  {
   "cell_type": "code",
   "execution_count": 46,
   "metadata": {},
   "outputs": [
    {
     "name": "stdout",
     "output_type": "stream",
     "text": [
      "tensor([[0, 1, 2, 3]])\n",
      "tensor([[ 0,  5, 10, 15]])\n"
     ]
    }
   ],
   "source": [
    "index = t.LongTensor([[0, 1, 2, 3]])\n",
    "print(index)\n",
    "print(a.gather(0, index))"
   ]
  },
  {
   "cell_type": "code",
   "execution_count": 50,
   "metadata": {},
   "outputs": [
    {
     "name": "stdout",
     "output_type": "stream",
     "text": [
      "tensor([[[ 0,  1,  2],\n",
      "         [ 3,  4,  5],\n",
      "         [ 6,  7,  8]],\n",
      "\n",
      "        [[ 9, 10, 11],\n",
      "         [12, 13, 14],\n",
      "         [15, 16, 17]],\n",
      "\n",
      "        [[18, 19, 20],\n",
      "         [21, 22, 23],\n",
      "         [24, 25, 26]]])\n",
      "tensor([14, 24])\n",
      "tensor([19, 10,  1])\n",
      "tensor([[[ 0,  1,  2],\n",
      "         [ 3,  4,  5],\n",
      "         [ 6,  7,  8]],\n",
      "\n",
      "        [[18, 19, 20],\n",
      "         [21, 22, 23],\n",
      "         [24, 25, 26]]])\n"
     ]
    }
   ],
   "source": [
    "x = t.arange(0, 27).view(3, 3, 3)\n",
    "print(x)\n",
    "print(x[[1, 2], [1, 2], [2, 0]])\n",
    "print(x[[2, 1, 0], [0], [1]])\n",
    "print(x[[0, 2], ...])"
   ]
  },
  {
   "cell_type": "code",
   "execution_count": 58,
   "metadata": {},
   "outputs": [
    {
     "name": "stdout",
     "output_type": "stream",
     "text": [
      "tensor([[2.6948e+06, 4.5804e-41, 2.6948e+06],\n",
      "        [4.5804e-41, 5.0832e-20, 1.4013e-45]]) torch.float32\n",
      "tensor([[2694784,       0, 2694784],\n",
      "        [      0,       0,       0]], dtype=torch.int32) torch.int32\n",
      "tensor([[2694784,       0, 2694784],\n",
      "        [      0,       0,       0]], dtype=torch.int32) torch.int32\n",
      "tensor([[ 678913390, 1142959146, 1667855973],\n",
      "        [1679834981, 1667855973, 1867398501]], dtype=torch.int32) torch.int32\n"
     ]
    }
   ],
   "source": [
    "t.set_default_tensor_type('torch.FloatTensor')\n",
    "a = t.Tensor(2, 3)\n",
    "print(a, a.dtype)\n",
    "b = a.int()\n",
    "print(b, b.dtype)\n",
    "\n",
    "c = a.type_as(b)\n",
    "print(b, b.dtype)\n",
    "\n",
    "d = c.new(2, 3)\n",
    "print(d, d.dtype)"
   ]
  },
  {
   "cell_type": "code",
   "execution_count": 63,
   "metadata": {},
   "outputs": [
    {
     "name": "stdout",
     "output_type": "stream",
     "text": [
      "tensor([[ 1.0000,  0.5403, -0.4161],\n",
      "        [-0.9900, -0.6536,  0.2837]])\n",
      "tensor([[0., 1., 2.],\n",
      "        [0., 1., 2.]])\n",
      "tensor([[ 0.,  1.,  4.],\n",
      "        [ 9., 16., 25.]])\n",
      "tensor([[3., 3., 3.],\n",
      "        [3., 4., 5.]])\n"
     ]
    }
   ],
   "source": [
    "# 逐元素操作\n",
    "a = t.arange(0, 6).view(2, 3)\n",
    "a = a.float()\n",
    "print(t.cos(a))\n",
    "print(a  % 3)\n",
    "print(a ** 2)\n",
    "print(t.clamp(a, min=3))"
   ]
  },
  {
   "cell_type": "code",
   "execution_count": 66,
   "metadata": {},
   "outputs": [
    {
     "name": "stdout",
     "output_type": "stream",
     "text": [
      "tensor([[2., 2., 2.]])\n",
      "tensor([3., 3.])\n",
      "tensor([[ 0,  1,  3],\n",
      "        [ 3,  7, 12]])\n"
     ]
    }
   ],
   "source": [
    "# 归并操作\n",
    "b = t.ones(2, 3)\n",
    "print(b.sum(dim = 0, keepdim=True))\n",
    "print(b.sum(dim = 1))\n",
    "a = t.arange(0, 6).view(2, 3)\n",
    "print(a.cumsum(dim=1))"
   ]
  },
  {
   "cell_type": "code",
   "execution_count": 78,
   "metadata": {},
   "outputs": [
    {
     "name": "stdout",
     "output_type": "stream",
     "text": [
      "tensor([[ 0.,  3.,  6.],\n",
      "        [ 9., 12., 15.]])\n",
      "tensor([[15., 12.,  9.],\n",
      "        [ 6.,  3.,  0.]])\n",
      "tensor([[0, 0, 0],\n",
      "        [1, 1, 1]], dtype=torch.uint8)\n",
      "tensor([ 9., 12., 15.])\n",
      "tensor(15.)\n",
      "(tensor([ 6., 15.]), tensor([2, 2]))\n",
      "tensor([[15., 12.,  9.],\n",
      "        [ 9., 12., 15.]])\n",
      "tensor([[10., 10., 10.],\n",
      "        [10., 12., 15.]])\n",
      "tensor([[ 0.,  3.,  6.],\n",
      "        [ 9., 12., 15.]]) tensor([[ 0.,  9.],\n",
      "        [ 3., 12.],\n",
      "        [ 6., 15.]]) False\n",
      "tensor([[ 0.,  9.],\n",
      "        [ 3., 12.],\n",
      "        [ 6., 15.]]) True\n"
     ]
    }
   ],
   "source": [
    "# 比较\n",
    "a = t.linspace(0, 15, 6).view(2, 3)\n",
    "print(a)\n",
    "b = t.linspace(15, 0, 6).view(2, 3)\n",
    "print(b)\n",
    "\n",
    "print(a > b)\n",
    "print(a[a > b])\n",
    "\n",
    "print(t.max(a))\n",
    "print(t.max(a, dim = 1))\n",
    "print(t.max(a, b))\n",
    "print(t.clamp(a, min=10))\n",
    "\n",
    "# linear algebra\n",
    "b = a.t()\n",
    "print(a, b, b.is_contiguous())\n",
    "b = b.contiguous()\n",
    "print(b, b.is_contiguous())"
   ]
  },
  {
   "cell_type": "code",
   "execution_count": 79,
   "metadata": {},
   "outputs": [
    {
     "name": "stdout",
     "output_type": "stream",
     "text": [
      "[[1. 1. 1.]\n",
      " [1. 1. 1.]] tensor([[1., 1., 1.],\n",
      "        [1., 1., 1.]])\n",
      "[[  1. 100.   1.]\n",
      " [  1.   1.   1.]] tensor([[  1., 100.,   1.],\n",
      "        [  1.,   1.,   1.]])\n"
     ]
    }
   ],
   "source": [
    "import numpy as np\n",
    "a = np.ones([2, 3], dtype=np.float32)\n",
    "b = t.from_numpy(a)\n",
    "\n",
    "print(a, b)\n",
    "a[0, 1] = 100\n",
    "print(a, b)"
   ]
  },
  {
   "cell_type": "code",
   "execution_count": 80,
   "metadata": {},
   "outputs": [
    {
     "name": "stdout",
     "output_type": "stream",
     "text": [
      "tensor([[1., 1.],\n",
      "        [1., 1.],\n",
      "        [1., 1.]])\n",
      "tensor([[[0.],\n",
      "         [0.],\n",
      "         [0.]],\n",
      "\n",
      "        [[0.],\n",
      "         [0.],\n",
      "         [0.]]])\n",
      "tensor([[[1., 1.],\n",
      "         [1., 1.],\n",
      "         [1., 1.]],\n",
      "\n",
      "        [[1., 1.],\n",
      "         [1., 1.],\n",
      "         [1., 1.]]])\n"
     ]
    }
   ],
   "source": [
    "a = t.ones(3, 2)\n",
    "b = t.zeros(2, 3, 1)\n",
    "print(a)\n",
    "print(b)\n",
    "print(a + b)"
   ]
  },
  {
   "cell_type": "code",
   "execution_count": 93,
   "metadata": {},
   "outputs": [
    {
     "name": "stdout",
     "output_type": "stream",
     "text": [
      "tensor([0, 1, 2, 3, 4, 5])  0\n",
      " 1\n",
      " 2\n",
      " 3\n",
      " 4\n",
      " 5\n",
      "[torch.LongStorage of size 6]\n",
      "tensor([[0, 1, 2],\n",
      "        [3, 4, 5]])  0\n",
      " 1\n",
      " 2\n",
      " 3\n",
      " 4\n",
      " 5\n",
      "[torch.LongStorage of size 6]\n",
      "4823025208 4823025208\n",
      "tensor([[  0, 100,   2],\n",
      "        [  3,   4,   5]])\n",
      " 0\n",
      " 100\n",
      " 2\n",
      " 3\n",
      " 4\n",
      " 5\n",
      "[torch.LongStorage of size 6]\n",
      "140390826902208 140390826902192\n",
      "torch.int64\n"
     ]
    }
   ],
   "source": [
    "a = t.arange(0, 6)\n",
    "print(a, a.storage())\n",
    "\n",
    "b = a.view(2, 3)\n",
    "print(b, b.storage())\n",
    "\n",
    "print(id(a.storage()), id(b.storage()))\n",
    "\n",
    "a[1] = 100\n",
    "print(b)\n",
    "\n",
    "c = a[2:]\n",
    "print(c.storage())\n",
    "\n",
    "print(c.data_ptr(), a.data_ptr())\n",
    "print(a.dtype)\n"
   ]
  },
  {
   "cell_type": "code",
   "execution_count": 103,
   "metadata": {},
   "outputs": [
    {
     "name": "stdout",
     "output_type": "stream",
     "text": [
      "tensor([[ 0,  1,  2,  3],\n",
      "        [ 4,  5,  6,  7],\n",
      "        [ 8,  9, 10, 11],\n",
      "        [12, 13, 14, 15]])\n",
      "tensor([[ 0,  5, 10, 15]])\n",
      "tensor([[ 3],\n",
      "        [ 6],\n",
      "        [ 9],\n",
      "        [12]])\n",
      "tensor([[12,  9,  6,  3]])\n",
      "tensor([[ 0,  3],\n",
      "        [ 5,  6],\n",
      "        [10,  9],\n",
      "        [15, 12]])\n",
      "tensor([[ 0.,  0.,  0.,  3.],\n",
      "        [ 0.,  5.,  6.,  0.],\n",
      "        [ 0.,  9., 10.,  0.],\n",
      "        [12.,  0.,  0., 15.]])\n"
     ]
    }
   ],
   "source": [
    "# gather and scatter\n",
    "a = t.arange(0, 16).view(4, 4)\n",
    "index = t.LongTensor([[0, 1, 2, 3]])\n",
    "print(a)\n",
    "print(a.gather(0, index))\n",
    "\n",
    "index = t.LongTensor([[3, 2, 1, 0]]).t()\n",
    "print(a.gather(1, index))\n",
    "\n",
    "index = t.LongTensor([[3, 2, 1, 0]])\n",
    "print(a.gather(0, index))\n",
    "\n",
    "index = t.LongTensor([[0, 1, 2, 3], [3, 2, 1, 0]]).t()\n",
    "b = a.gather(1, index)\n",
    "print(b)\n",
    "\n",
    "c = t.zeros(4, 4)\n",
    "c = c.float()\n",
    "b = b.float()\n",
    "c.scatter_(1, index, b)\n",
    "print(c)\n",
    "\n"
   ]
  },
  {
   "cell_type": "code",
   "execution_count": null,
   "metadata": {},
   "outputs": [],
   "source": []
  }
 ],
 "metadata": {
  "kernelspec": {
   "display_name": "Python 2",
   "language": "python",
   "name": "python2"
  },
  "language_info": {
   "codemirror_mode": {
    "name": "ipython",
    "version": 2
   },
   "file_extension": ".py",
   "mimetype": "text/x-python",
   "name": "python",
   "nbconvert_exporter": "python",
   "pygments_lexer": "ipython2",
   "version": "2.7.15"
  }
 },
 "nbformat": 4,
 "nbformat_minor": 2
}
