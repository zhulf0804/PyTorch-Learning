{
 "cells": [
  {
   "cell_type": "code",
   "execution_count": 2,
   "metadata": {},
   "outputs": [],
   "source": [
    "from __future__ import print_function\n",
    "import torch as t\n",
    "from torch.autograd import Variable as V"
   ]
  },
  {
   "cell_type": "code",
   "execution_count": 10,
   "metadata": {},
   "outputs": [
    {
     "name": "stdout",
     "output_type": "stream",
     "text": [
      "tensor([[1., 1., 1., 1.],\n",
      "        [1., 1., 1., 1.],\n",
      "        [1., 1., 1., 1.]], requires_grad=True)\n",
      "tensor([[0., 0., 0., 0.],\n",
      "        [0., 0., 0., 0.],\n",
      "        [0., 0., 0., 0.]])\n",
      "tensor([[1., 1., 1., 1.],\n",
      "        [1., 1., 1., 1.],\n",
      "        [1., 1., 1., 1.]], grad_fn=<AddBackward0>)\n",
      "tensor(12.) tensor(12., grad_fn=<SumBackward0>)\n",
      "tensor([[1., 1., 1., 1.],\n",
      "        [1., 1., 1., 1.],\n",
      "        [1., 1., 1., 1.]])\n",
      "True False True\n",
      "True True False\n",
      "None\n",
      "tensor([[1., 1., 1., 1.],\n",
      "        [1., 1., 1., 1.],\n",
      "        [1., 1., 1., 1.]])\n"
     ]
    }
   ],
   "source": [
    "a = V(t.ones(3, 4), requires_grad=True)\n",
    "print(a)\n",
    "\n",
    "b = V(t.zeros(3, 4))\n",
    "print(b)\n",
    "\n",
    "c = a.add(b)\n",
    "print(c)\n",
    "\n",
    "d = c.sum()\n",
    "\n",
    "d.backward()\n",
    "\n",
    "print(c.data.sum(), c.sum())\n",
    "\n",
    "print(a.grad)\n",
    "\n",
    "print(a.requires_grad, b.requires_grad, c.requires_grad)\n",
    "print(a.is_leaf, b.is_leaf, c.is_leaf)\n",
    "print(c.grad)\n"
   ]
  },
  {
   "cell_type": "code",
   "execution_count": 13,
   "metadata": {},
   "outputs": [
    {
     "name": "stdout",
     "output_type": "stream",
     "text": [
      "tensor([[ 0.1425,  0.0671,  1.4004,  7.8635],\n",
      "        [ 0.5099, 13.2147,  0.5409,  9.2657],\n",
      "        [ 0.1612,  5.6834,  0.5097,  0.2148]], grad_fn=<MulBackward0>)\n",
      "tensor([[-4.5144e-01,  6.4828e-01,  4.9226e+00,  1.9133e+01],\n",
      "        [-1.4816e-01,  2.9545e+01,  1.5267e-02,  2.1924e+01],\n",
      "        [ 1.1125e+00,  1.4662e+01,  1.0712e-01, -4.5915e-01]])\n",
      "tensor([[-4.5144e-01,  6.4828e-01,  4.9226e+00,  1.9133e+01],\n",
      "        [-1.4816e-01,  2.9545e+01,  1.5267e-02,  2.1924e+01],\n",
      "        [ 1.1125e+00,  1.4662e+01,  1.0712e-01, -4.5915e-01]],\n",
      "       grad_fn=<AddBackward0>)\n"
     ]
    }
   ],
   "source": [
    "def f(x):\n",
    "    y = x**2 * t.exp(x)\n",
    "    return y\n",
    "\n",
    "def gradf(x):\n",
    "    dx = 2*x*t.exp(x) + x**2*t.exp(x)\n",
    "    return dx\n",
    "\n",
    "x = V(t.randn(3, 4), requires_grad=True)\n",
    "y = f(x)\n",
    "\n",
    "print(y)\n",
    "\n",
    "y.backward(t.ones(y.size()))\n",
    "print(x.grad)\n",
    "print(gradf(x))"
   ]
  },
  {
   "cell_type": "code",
   "execution_count": 29,
   "metadata": {},
   "outputs": [
    {
     "name": "stdout",
     "output_type": "stream",
     "text": [
      "False True True True\n",
      "True True True False False\n",
      "<AddBackward0 object at 0x110fd0ad0>\n",
      "((<MulBackward0 object at 0x110fd0bd0>, 0L), (<AccumulateGrad object at 0x110fd0b50>, 0L))\n",
      "True\n",
      "((<AccumulateGrad object at 0x110fd0b90>, 0L), (None, 0L))\n",
      "None None\n",
      "tensor([1.])\n",
      "tensor([2.])\n"
     ]
    }
   ],
   "source": [
    "x = V(t.ones(1))\n",
    "b = V(t.rand(1), requires_grad=True)\n",
    "w = V(t.rand(1), requires_grad=True)\n",
    "y = w*x\n",
    "z = y + b\n",
    "print(x.requires_grad, b.requires_grad, w.requires_grad, y.requires_grad)\n",
    "print(x.is_leaf, w.is_leaf, b.is_leaf, y.is_leaf, z.is_leaf)\n",
    "print(z.grad_fn)\n",
    "print(z.grad_fn.next_functions)\n",
    "print(z.grad_fn.next_functions[0][0] == y.grad_fn)\n",
    "print(y.grad_fn.next_functions)\n",
    "print(w.grad_fn, x.grad_fn)\n",
    "\n",
    "z.backward(retain_graph=True)\n",
    "print(w.grad)\n",
    "\n",
    "z.backward()\n",
    "print(w.grad)"
   ]
  },
  {
   "cell_type": "code",
   "execution_count": 35,
   "metadata": {},
   "outputs": [
    {
     "name": "stdout",
     "output_type": "stream",
     "text": [
      "tensor([1.])\n",
      "tensor([2.])\n",
      "tensor([-1.])\n"
     ]
    }
   ],
   "source": [
    "def abs(x):\n",
    "    \n",
    "    if x.data[0] > 0: return x\n",
    "    else: return -x\n",
    "    \n",
    "x = V(t.ones(1), requires_grad=True)\n",
    "y = abs(x)\n",
    "y.backward()\n",
    "print(x.grad)\n",
    "y.backward()\n",
    "print(x.grad)\n",
    "\n",
    "x = V(-t.ones(1), requires_grad=True)\n",
    "y = abs(x)\n",
    "y.backward()\n",
    "print(x.grad)"
   ]
  },
  {
   "cell_type": "code",
   "execution_count": 43,
   "metadata": {},
   "outputs": [
    {
     "name": "stdout",
     "output_type": "stream",
     "text": [
      "tensor([0., 0., 0., 6., 3., 2.])\n"
     ]
    }
   ],
   "source": [
    "def f(x):\n",
    "    result = 1\n",
    "    for ii in x:\n",
    "        if ii.item() > 0: result = ii * result\n",
    "        \n",
    "    return result\n",
    "\n",
    "x = V(t.arange(-2.0, 4.0), requires_grad=True)\n",
    "y = f(x)\n",
    "y.backward()\n",
    "\n",
    "print(x.grad)"
   ]
  },
  {
   "cell_type": "code",
   "execution_count": 45,
   "metadata": {},
   "outputs": [
    {
     "name": "stdout",
     "output_type": "stream",
     "text": [
      "False True True\n"
     ]
    }
   ],
   "source": [
    "x = V(t.ones(1))\n",
    "w = V(t.rand(1), requires_grad=True)\n",
    "y = x * w\n",
    "print(x.requires_grad, w.requires_grad, y.requires_grad)"
   ]
  },
  {
   "cell_type": "code",
   "execution_count": 49,
   "metadata": {},
   "outputs": [
    {
     "name": "stdout",
     "output_type": "stream",
     "text": [
      "False True False\n"
     ]
    }
   ],
   "source": [
    "with t.no_grad():\n",
    "    x = V(t.ones(1))\n",
    "    w = V(t.rand(1), requires_grad=True)\n",
    "    y = w*x\n",
    "print(x.requires_grad, w.requires_grad, y.requires_grad)"
   ]
  },
  {
   "cell_type": "code",
   "execution_count": 4,
   "metadata": {},
   "outputs": [
    {
     "name": "stdout",
     "output_type": "stream",
     "text": [
      "True True True\n",
      "tensor([0.0872, 0.7775, 0.3234]) tensor([1., 1., 1.]) None\n",
      "True True True\n",
      "(tensor([1., 1., 1.]),)\n",
      "tensor([0.3811, 0.7363, 0.0251]) tensor([1., 1., 1.]) None\n"
     ]
    }
   ],
   "source": [
    "x = V(t.ones(3), requires_grad=True)\n",
    "w = V(t.rand(3), requires_grad=True)\n",
    "y = x*w\n",
    "z = y.sum()\n",
    "\n",
    "print(x.requires_grad, w.requires_grad, y.requires_grad)\n",
    "\n",
    "z.backward()\n",
    "\n",
    "print(x.grad, w.grad, y.grad)\n",
    "\n",
    "#autograd.grad\n",
    "\n",
    "x = V(t.ones(3), requires_grad=True)\n",
    "w = V(t.rand(3), requires_grad=True)\n",
    "y = x*w\n",
    "z = y.sum()\n",
    "\n",
    "print(x.requires_grad, w.requires_grad, y.requires_grad)\n",
    "\n",
    "z.backward()\n",
    "\n",
    "print(t.autograd.grad(z, y))\n",
    "print(x.grad, w.grad, y.grad)\n",
    "\n",
    "    "
   ]
  },
  {
   "cell_type": "code",
   "execution_count": 7,
   "metadata": {},
   "outputs": [
    {
     "name": "stdout",
     "output_type": "stream",
     "text": [
      "tensor([1., 1., 1.])\n"
     ]
    }
   ],
   "source": [
    "#hook\n",
    "\n",
    "def variable_hook(grad):\n",
    "    print(grad)\n",
    "    \n",
    "x = V(t.ones(3), requires_grad=True)\n",
    "w = V(t.rand(3), requires_grad=True)\n",
    "\n",
    "\n",
    "y = x * w\n",
    "\n",
    "#print(x.shape, w.shape, y.shape)\n",
    "#print(x, w, y)\n",
    "\n",
    "hook_handle = y.register_hook(variable_hook)\n",
    "z = y.sum()\n",
    "z.backward()\n",
    "hook_handle.remove()"
   ]
  },
  {
   "cell_type": "code",
   "execution_count": 11,
   "metadata": {},
   "outputs": [
    {
     "name": "stdout",
     "output_type": "stream",
     "text": [
      "tensor([2., 4., 6.])\n",
      "tensor([2., 4., 6.])\n"
     ]
    }
   ],
   "source": [
    "x = V(t.arange(0.0, 3.0), requires_grad=True)\n",
    "y = x**2 + x*2\n",
    "z = y.sum()\n",
    "z.backward()\n",
    "print(x.grad)\n",
    "\n",
    "x = V(t.arange(0.0, 3.0), requires_grad=True)\n",
    "y = x**2 + x*2\n",
    "z = y.sum()\n",
    "y_grad_variables = V(t.Tensor([1, 1, 1]))\n",
    "y.backward(y_grad_variables)\n",
    "print(x.grad)\n"
   ]
  },
  {
   "cell_type": "code",
   "execution_count": null,
   "metadata": {},
   "outputs": [],
   "source": []
  }
 ],
 "metadata": {
  "kernelspec": {
   "display_name": "Python 2",
   "language": "python",
   "name": "python2"
  },
  "language_info": {
   "codemirror_mode": {
    "name": "ipython",
    "version": 2
   },
   "file_extension": ".py",
   "mimetype": "text/x-python",
   "name": "python",
   "nbconvert_exporter": "python",
   "pygments_lexer": "ipython2",
   "version": "2.7.15"
  }
 },
 "nbformat": 4,
 "nbformat_minor": 2
}
